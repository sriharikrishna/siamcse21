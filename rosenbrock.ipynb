{
  "nbformat": 4,
  "nbformat_minor": 0,
  "metadata": {
    "kernelspec": {
      "display_name": "Python 3",
      "language": "python",
      "name": "python3"
    },
    "language_info": {
      "codemirror_mode": {
        "name": "ipython",
        "version": 3
      },
      "file_extension": ".py",
      "mimetype": "text/x-python",
      "name": "python",
      "nbconvert_exporter": "python",
      "pygments_lexer": "ipython3",
      "version": "3.9.0"
    },
    "colab": {
      "name": "rosenbrock.ipynb",
      "provenance": [],
      "collapsed_sections": [],
      "include_colab_link": true
    }
  },
  "cells": [
    {
      "cell_type": "markdown",
      "metadata": {
        "id": "view-in-github",
        "colab_type": "text"
      },
      "source": [
        "<a href=\"https://colab.research.google.com/github/sriharikrishna/siamcse21/blob/main/rosenbrock.ipynb\" target=\"_parent\"><img src=\"https://colab.research.google.com/assets/colab-badge.svg\" alt=\"Open In Colab\"/></a>"
      ]
    },
    {
      "cell_type": "markdown",
      "metadata": {
        "id": "B9DO78IJ3To4"
      },
      "source": [
        "# Rosenbrock function\n",
        "**Notebook Authors**: [Laurent Hascoët](http://www-sop.inria.fr/members/Laurent.Hascoet/)\n",
        "[Jan Hückelheim](https://www.anl.gov/profile/jan-christian-hueckelheim)\n",
        "[Paul Hovland](https://www.mcs.anl.gov/~hovland/)\n",
        "[Sri Hari Krishna Narayanan](https://www.mcs.anl.gov/~snarayan)\n",
        "\n",
        "Also known as Rosenbrock's valley or Rosenbrock's banana function. It is a performance test for optimization. The narrow long valley makes it difficult to find the minimum. \n",
        "\n",
        "\\begin{equation}\n",
        "F(x) = \\sum_{i=0}^{N-1}100(x_{i+1} - x_i^2)^2 + (1 - x_i)^2.\n",
        "\\end{equation}\n",
        "\n",
        "<center><img src=\"https://upload.wikimedia.org/wikipedia/commons/3/32/Rosenbrock_function.svg\" width=\"40%\" /></center>\n"
      ]
    },
    {
      "cell_type": "markdown",
      "metadata": {
        "id": "zUQVBwdc3To5"
      },
      "source": [
        "### 1. Primal Function\n",
        "1. Evaluates the Rosenbrock function for an arbitary input vector."
      ]
    },
    {
      "cell_type": "code",
      "metadata": {
        "id": "w1DI9YNu3To6"
      },
      "source": [
        "import jax\n",
        "import jax.numpy as jnp\n",
        "import matplotlib.pyplot as plt\n",
        "\n",
        "def rosenbrock(x):\n",
        "    \"\"\"\n",
        "    Input: x vector of values\n",
        "    Output: Result of Rosenbrock's banana function\n",
        "    \"\"\"\n",
        "    result = jnp.sum(100.0 * (x[1:] - x[:-1]**2.0)**2.0 + (1 - x[:-1])**2.0,axis=0)\n",
        "    return result\n",
        "\n",
        "def plot_vals(vals, grad=None):\n",
        "    plt.plot(vals,label='primal input')\n",
        "    if grad != None:\n",
        "      plt.plot(grad,label='derivatives')\n",
        "    plt.xlabel('array index')\n",
        "    plt.legend()\n",
        "    plt.title('')\n",
        "    plt.show()"
      ],
      "execution_count": null,
      "outputs": []
    },
    {
      "cell_type": "markdown",
      "metadata": {
        "id": "3trBKqNG3To6"
      },
      "source": [
        "### 2. Primal Driver\n",
        "1. Calls the Rosenbrock function. \n",
        "2. We have arbitarily created an array `[0.5, 0.5..., 0.5]` as its input."
      ]
    },
    {
      "cell_type": "code",
      "metadata": {
        "id": "pDjU1M8n3To6"
      },
      "source": [
        "def fun_driver(n):\n",
        "    \"\"\"\n",
        "    Input: n array length\n",
        "    Output: Result of Rosenbrock's banana function\n",
        "    \"\"\"\n",
        "    val = jnp.full(n, 0.5) \n",
        "\n",
        "    #compute the result\n",
        "    result = rosenbrock(val)\n",
        "    \n",
        "    print(\"The input is\", val)\n",
        "    print(\"The result of Rosenbrock's is \", result)"
      ],
      "execution_count": null,
      "outputs": []
    },
    {
      "cell_type": "code",
      "metadata": {
        "id": "6zbAGnJB3To7"
      },
      "source": [
        "fun_driver(10)"
      ],
      "execution_count": null,
      "outputs": []
    },
    {
      "cell_type": "markdown",
      "metadata": {
        "id": "dyEgww5c3To7"
      },
      "source": [
        "### 3. First look at derivatives: `jax.grad()`\n",
        "1. https://jax.readthedocs.io/en/latest/jax.html#jax.grad\n",
        "2. Computes $v\\cdot J$ for a function that computes a scalar value ($R^n \\rightarrow R$).\n",
        "3. The seed is internally set to `1.0`\n",
        "   (the shape of the seed must match the primal output).   "
      ]
    },
    {
      "cell_type": "code",
      "metadata": {
        "id": "K8AG5wiB3To7"
      },
      "source": [
        "#Create a function that computes the derivatives.\n",
        "#This needs to happen only once.\n",
        "grad_rosenbrock = jax.grad(rosenbrock)\n",
        "\n",
        "def grad_driver(n):\n",
        "    \"\"\"\n",
        "    Input: n array length\n",
        "    Output: Result of Rosenbrock's banana function\n",
        "    \"\"\"\n",
        "    #create the input array\n",
        "    val = jnp.full(n, 0.5) \n",
        "    \n",
        "    #compute the derivatives\n",
        "    result = grad_rosenbrock(val)\n",
        "\n",
        "    plot_vals(val,grad=result)\n",
        "    print(\"The input is\", val)\n",
        "    print(\"The grad result is \", result)"
      ],
      "execution_count": null,
      "outputs": []
    },
    {
      "cell_type": "code",
      "metadata": {
        "id": "rpvTSprC3To8"
      },
      "source": [
        "grad_driver(10)"
      ],
      "execution_count": null,
      "outputs": []
    },
    {
      "cell_type": "markdown",
      "metadata": {
        "id": "x9PuEwRW3To8"
      },
      "source": [
        "### 4. Forward mode using: `jax.jvp()`\n",
        "1. https://jax.readthedocs.io/en/latest/jax.html#jax.jvp\n",
        "2. Computes $J\\cdot v$ for a function $R^n \\rightarrow R^m$. \n",
        "3. `jax.jvp()` requires the input value for the primal function, which is the point where the derivatives are computed.\n",
        "4. `jax.jvp()` requires a seed $v$. \n",
        "   (For forward mode the shape of the seed must match the primal input.) \n",
        "5. The code below obtains the entire Jacobian by calling `jax.jvp()` multiple times. It sets the input value to an arbitary value and sets the seed to the Cartesian basis vectors."
      ]
    },
    {
      "cell_type": "code",
      "metadata": {
        "id": "zPCa8H6O3To8"
      },
      "source": [
        "def jvp_driver(n):\n",
        "    \"\"\"\n",
        "    Input: n array length\n",
        "    Output: Result of Rosenbrock's banana function\n",
        "    \"\"\"\n",
        "    #create the input array\n",
        "    val = jnp.full(n, 0.5) \n",
        "\n",
        "    tangents = jnp.empty([0])\n",
        "\n",
        "    #compute the derivatives. It takes n calls!\n",
        "    iden_seed = jnp.eye(n)   \n",
        "    for i in range(n):\n",
        "        # jax.jvp must be called once for each input and seed value\n",
        "        primal_output, res = jax.jvp(rosenbrock, (val,), (iden_seed[i],))\n",
        "        tangents = jnp.append(tangents, res)\n",
        "    \n",
        "    plot_vals(val,grad=tangents)\n",
        "    print(\"The input is\", val)\n",
        "    print(\"The jax.jvp result is \", tangents)"
      ],
      "execution_count": null,
      "outputs": []
    },
    {
      "cell_type": "code",
      "metadata": {
        "scrolled": true,
        "id": "8rnrWIBu3To8"
      },
      "source": [
        "jvp_driver(10)"
      ],
      "execution_count": null,
      "outputs": []
    },
    {
      "cell_type": "markdown",
      "metadata": {
        "id": "80cZLGm23To9"
      },
      "source": [
        "### 5. Reverse mode using: `jax.vjp()`\n",
        "1. https://jax.readthedocs.io/en/latest/jax.html#jax.vjp\n",
        "2. Uses reverse mode, returns a function (`fun_vjp` below) that computes $v \\cdot J$ for a function $R^n \\rightarrow R^m$.\n",
        "3. `jax.vjp()` requires the input value for the primal function, which is the point where the derivatives are computed.\n",
        "4. `fun_vjp` requires a seed $v$. For reverse mode the shape of the seed must match the primal output. We have chosen `1.0`. \n",
        "5. Exercise: See how values change as the seed changes."
      ]
    },
    {
      "cell_type": "code",
      "metadata": {
        "id": "bi66GZtX3To9"
      },
      "source": [
        "def vjp_driver(n):    \n",
        "    \"\"\"\n",
        "    Input: n array length\n",
        "    Output: Result of Rosenbrock's banana function\n",
        "    \"\"\"\n",
        "    #create the input array\n",
        "    val = jnp.full(n, 0.5) \n",
        "\n",
        "    #jax.vjp must be called once for each input value\n",
        "    primals, fun_vjp = jax.vjp(rosenbrock, val)\n",
        "    \n",
        "    #compute the derivatives by calling fun_vjp() for the seed value\n",
        "    seed = 1.0\n",
        "    adj_val = fun_vjp(seed)\n",
        "\n",
        "    plot_vals(val,grad=jnp.stack(adj_val[0]))\n",
        "    print(\"The input is\", val)\n",
        "    print(\"The jax.vjp result is \", adj_val[0])"
      ],
      "execution_count": null,
      "outputs": []
    },
    {
      "cell_type": "code",
      "metadata": {
        "id": "jJ-qVDff3To9"
      },
      "source": [
        "vjp_driver(10)"
      ],
      "execution_count": null,
      "outputs": []
    },
    {
      "cell_type": "markdown",
      "metadata": {
        "id": "Gd-8leXOme69"
      },
      "source": [
        "### 6. Multiple Input Arguments\n",
        "1. `jax.grad()` `jax.jvp()` `jax.vjp()` all support multiple arguments as *input*.\n",
        "\n",
        "The way the seed is set up with multiple arguments is different.\n"
      ]
    },
    {
      "cell_type": "code",
      "metadata": {
        "id": "HK0gv9xHmHWT"
      },
      "source": [
        "def rosenbrock3(x0,x1,x2):\n",
        "    \"\"\"\n",
        "    Computes the Rosenbrock function\n",
        "    x1,x2,x3 : scalar input values\n",
        "    \"\"\"\n",
        "    result = (100*(x1-x0**2)**2 + (1-x0)**2) + (100*(x2-x1**2)**2 + (1-x1)**2)\n",
        "    return result\n",
        "\n",
        "#Call the original Rosebrock\n",
        "fun_driver(3)\n",
        "\n",
        "result = rosenbrock3(0.5,0.5,0.5)\n",
        "print(\"The result of rosenbrock3 is\", result)\n"
      ],
      "execution_count": null,
      "outputs": []
    },
    {
      "cell_type": "markdown",
      "metadata": {
        "id": "aPn2qaoueXte"
      },
      "source": [
        "#### Reverse mode"
      ]
    },
    {
      "cell_type": "code",
      "metadata": {
        "id": "9Rr4DTG8mJeF"
      },
      "source": [
        "def grad_driver3(x0,x1,x2):\n",
        "    \"\"\"\n",
        "    n must be a positive integer\n",
        "    \"\"\"\n",
        "    #Create a function that computes the derivatives\n",
        "    grad_rosenbrock3 = jax.grad(rosenbrock3, argnums=(0,1,2))\n",
        "\n",
        "    #compute the result\n",
        "    result1, result2, result3 = grad_rosenbrock3(x0,x1,x2)\n",
        "    print(\"The input is\", x0,x1,x2)\n",
        "    print(\"The grad result is \", result1, result2, result3)\n",
        "\n",
        "#Call the original Rosebrock grad_driver\n",
        "grad_driver(3)\n",
        "grad_driver3(0.5,0.5,0.5)"
      ],
      "execution_count": null,
      "outputs": []
    },
    {
      "cell_type": "markdown",
      "metadata": {
        "id": "MEHMNtbCo9h8"
      },
      "source": [
        "#### Forward mode\n",
        "We will have to call `jax.jvp` function using different seed values:\n",
        "\n",
        "$\\bullet$ Initializing $\\dot{x_0} = 1$ and $\\dot{x_1} = 0$ $\\dot{x_2} = 0$ yields $\\dot{f} = \\frac{\\partial f}{\\partial x_0}$.\n",
        "\n",
        "$\\bullet$ Initializing $\\dot{x_1} = 1$ and $\\dot{x_0} = 0$ $\\dot{x_2} = 0$ yields $\\dot{f} = \\frac{\\partial f}{\\partial x_1}$.\n",
        "\n",
        "$\\bullet$ Initializing $\\dot{x_2} = 1$ and $\\dot{x_0} = 0$ $\\dot{x_1} = 0$ yields $\\dot{f} = \\frac{\\partial f}{\\partial x_2}$."
      ]
    },
    {
      "cell_type": "code",
      "metadata": {
        "id": "smYGdzT-mcuO"
      },
      "source": [
        "def jvp_driver3(x0,x1,x2):\n",
        "    \"\"\"\n",
        "    n must be a positive integer\n",
        "    \"\"\"\n",
        "    #compute the result\n",
        "    primal, result1 = jax.jvp(rosenbrock3,(x0,x1,x2), (1.0,0.0,0.0))\n",
        "    primal, result2 = jax.jvp(rosenbrock3,(x0,x1,x2), (0.0,1.0,0.0))\n",
        "    primal, result3 = jax.jvp(rosenbrock3,(x0,x1,x2), (0.0,0.0,1.0))\n",
        "    print(\"The input is\", x0,x1,x2)\n",
        "    print(\"The grad result is \", (result1), (result2), (result3))\n",
        "\n",
        "jvp_driver3(0.5,0.5,0.5)"
      ],
      "execution_count": null,
      "outputs": []
    }
  ]
}