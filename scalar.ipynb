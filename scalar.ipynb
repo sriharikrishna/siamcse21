{
  "nbformat": 4,
  "nbformat_minor": 0,
  "metadata": {
    "kernelspec": {
      "display_name": "Python 3",
      "language": "python",
      "name": "python3"
    },
    "language_info": {
      "codemirror_mode": {
        "name": "ipython",
        "version": 3
      },
      "file_extension": ".py",
      "mimetype": "text/x-python",
      "name": "python",
      "nbconvert_exporter": "python",
      "pygments_lexer": "ipython3",
      "version": "3.9.0"
    },
    "colab": {
      "name": "scalar.ipynb",
      "provenance": [],
      "collapsed_sections": [],
      "include_colab_link": true
    }
  },
  "cells": [
    {
      "cell_type": "markdown",
      "metadata": {
        "id": "view-in-github",
        "colab_type": "text"
      },
      "source": [
        "<a href=\"https://colab.research.google.com/github/sriharikrishna/siamcse21/blob/main/scalar.ipynb\" target=\"_parent\"><img src=\"https://colab.research.google.com/assets/colab-badge.svg\" alt=\"Open In Colab\"/></a>"
      ]
    },
    {
      "cell_type": "markdown",
      "metadata": {
        "id": "B9DO78IJ3To4"
      },
      "source": [
        "# Exercises\n",
        "1. Write your own scalar function\n",
        "2. Use jax.grad() jax.jvp() jax.vjp()\n",
        "3. Change the seed values that have been provided\n",
        "\n"
      ]
    },
    {
      "cell_type": "markdown",
      "metadata": {
        "id": "zUQVBwdc3To5"
      },
      "source": [
        "### 1. Primal Function\n",
        "1. Evaluates the scalar function for an arbitary input vector"
      ]
    },
    {
      "cell_type": "code",
      "metadata": {
        "id": "w1DI9YNu3To6"
      },
      "source": [
        "import jax\n",
        "from jax import random\n",
        "import jax.numpy as jnp\n",
        "\n",
        "def fun(x):\n",
        "    \"\"\"\n",
        "    Input: x vector of values\n",
        "    Output: Result of a scalar function\n",
        "    \"\"\"\n",
        "    #Enter your computation here OR use the following \n",
        "    #Speelpenning function\n",
        "    result = jnp.prod(x)\n",
        "\n",
        "    return result"
      ],
      "execution_count": null,
      "outputs": []
    },
    {
      "cell_type": "markdown",
      "metadata": {
        "id": "3trBKqNG3To6"
      },
      "source": [
        "### 2. Primal Driver\n",
        "1. Calls the scalar function. \n",
        "2. We have created a random array as its input."
      ]
    },
    {
      "cell_type": "code",
      "metadata": {
        "id": "pDjU1M8n3To6"
      },
      "source": [
        "def fun_driver(n):\n",
        "    \"\"\"\n",
        "    Input: n array length\n",
        "    Output: Result of scalar function\n",
        "    \"\"\"\n",
        "    #create a random array\n",
        "    key = random.PRNGKey(0)\n",
        "    val = random.normal(key, (n,), jnp.float64)\n",
        "\n",
        "    #create a array of constant elememnts\n",
        "    #val = jnp.full(n, 0.5)\n",
        "\n",
        "    #compute the result\n",
        "    result = fun(val)\n",
        "\n",
        "    print(\"The input is\", val)\n",
        "    print(\"The result is \", result)"
      ],
      "execution_count": null,
      "outputs": []
    },
    {
      "cell_type": "code",
      "metadata": {
        "id": "6zbAGnJB3To7"
      },
      "source": [
        "fun_driver(10)"
      ],
      "execution_count": null,
      "outputs": []
    },
    {
      "cell_type": "markdown",
      "metadata": {
        "id": "dyEgww5c3To7"
      },
      "source": [
        "### 3. First look at derivatives: `jax.grad()`\n",
        "1. https://jax.readthedocs.io/en/latest/jax.html#jax.grad\n",
        "2. Computes $v\\cdot J$ for a function that computes a scalar value ($R^n \\rightarrow R$).\n",
        "3. The seed is internally set to `1.0`\n",
        "   (the shape of the seed must match the primal output)"
      ]
    },
    {
      "cell_type": "code",
      "metadata": {
        "id": "K8AG5wiB3To7"
      },
      "source": [
        "#Create a function that computes the derivatives\n",
        "grad_fun = jax.grad(fun)\n",
        "\n",
        "def grad_driver(n):\n",
        "    \"\"\"\n",
        "    Input: n array length\n",
        "    Output: Derivatives of the scalar function\n",
        "    \"\"\"\n",
        "    \n",
        "    #create a random array\n",
        "    key = random.PRNGKey(0)\n",
        "    val = random.normal(key, (n,), jnp.float64)\n",
        "\n",
        "    #create a array of constant elememnts\n",
        "    #val = jnp.full(n, 0.5)\n",
        "    \n",
        "    #compute the result\n",
        "    result = grad_fun(val)\n",
        "    print(\"The input is\", val)\n",
        "    print(\"The grad result is \", result)"
      ],
      "execution_count": null,
      "outputs": []
    },
    {
      "cell_type": "code",
      "metadata": {
        "id": "rpvTSprC3To8"
      },
      "source": [
        "grad_driver(10)"
      ],
      "execution_count": null,
      "outputs": []
    },
    {
      "cell_type": "markdown",
      "metadata": {
        "id": "x9PuEwRW3To8"
      },
      "source": [
        "### 4. Forward mode using: `jax.jvp()`\n",
        "1. https://jax.readthedocs.io/en/latest/jax.html#jax.jvp\n",
        "2. Computes $J\\cdot v$ for a function $R^n \\rightarrow R^m$. \n",
        "3. `jax.jvp()` requires the input value for the primal function, which is the point where the derivatives are computed.\n",
        "4. `jax.jvp()` requires a seed $v$. \n",
        "   (For forward mode the shape of the seed must match the primal input.) \n",
        "5. The code below obtains the entire Jacobian by calling `jax.jvp()` multiple times. It sets the input value to an arbitary value and sets the seed to the Cartesian basis vectors."
      ]
    },
    {
      "cell_type": "code",
      "metadata": {
        "id": "zPCa8H6O3To8"
      },
      "source": [
        "def jvp_driver(n):\n",
        "    \"\"\"\n",
        "    Input: n array length\n",
        "    Output: Derivatives of the scalar function\n",
        "    \"\"\"\n",
        "    #create a random array\n",
        "    key = random.PRNGKey(0)\n",
        "    val = random.normal(key, (n,), jnp.float64)\n",
        "\n",
        "    #create a array of constant elememnts\n",
        "    #val = jnp.full(n, 0.5)\n",
        "\n",
        "    tangents = jnp.empty([0])\n",
        "\n",
        "    #compute the derivatives. It takes n calls!\n",
        "    seed = jnp.eye(n)  \n",
        "\n",
        "    #uncomment one of the statements below to use some other seed\n",
        "    #seed = random.normal(key, (n,n,), jnp.float64)\n",
        "    #seed = seed * 0.5\n",
        "    #seed = jnp.full((n,n,), 2.0)\n",
        "\n",
        "    for i in range(n):\n",
        "        # jax.jvp must be called once for each input and seed value\n",
        "        primal_output, res = jax.jvp(fun, (val,), (seed[i],))\n",
        "        tangents = jnp.append(tangents, res)\n",
        "    \n",
        "    print(\"The input is\", val)\n",
        "    print(\"The jax.jvp result is \", tangents)"
      ],
      "execution_count": null,
      "outputs": []
    },
    {
      "cell_type": "code",
      "metadata": {
        "scrolled": true,
        "id": "8rnrWIBu3To8"
      },
      "source": [
        "jvp_driver(10)"
      ],
      "execution_count": null,
      "outputs": []
    },
    {
      "cell_type": "markdown",
      "metadata": {
        "id": "80cZLGm23To9"
      },
      "source": [
        "### 5. Reverse mode using: `jax.vjp()`\n",
        "1. https://jax.readthedocs.io/en/latest/jax.html#jax.vjp\n",
        "2. Uses reverse mode, returns a function that computes the adjoints for a funtion $R^n \\rightarrow R^m$.\n",
        "3. `jax.vjp()` requires the input value for the primal function, which is the point where the derivatives are computed.\n",
        "4. `fun_vjp` requires a seed $v$. For reverse mode the shape of the seed must match the primal output. We have chosen `1.0`. \n",
        "5. Exercise: See how values change as the seed changes.\n"
      ]
    },
    {
      "cell_type": "code",
      "metadata": {
        "id": "bi66GZtX3To9"
      },
      "source": [
        "def vjp_driver(n):    \n",
        "    \"\"\"\n",
        "    Input: n array length\n",
        "    Output: Derivatives of the scalar function\n",
        "    \"\"\"\n",
        "    #create a random array\n",
        "    key = random.PRNGKey(0)\n",
        "    val = random.normal(key, (n,), jnp.float64)\n",
        "\n",
        "    #create a array of constant elememnts\n",
        "    #val = jnp.full(n, 0.5)\n",
        "\n",
        "    #jax.vjp must be called once for each input value\n",
        "    primals, fun_vjp = jax.vjp(fun, val)\n",
        "    \n",
        "    #compute the derivatives by calling fun_vjp() for the seed value\n",
        "    #try using a different seed value.\n",
        "    seed = 1.0\n",
        "    adj_val = fun_vjp(seed)\n",
        "\n",
        "    print(\"The input is\", val)\n",
        "    print(\"The jax.vjp result is \", adj_val[0])"
      ],
      "execution_count": null,
      "outputs": []
    },
    {
      "cell_type": "code",
      "metadata": {
        "id": "jJ-qVDff3To9"
      },
      "source": [
        "vjp_driver(10)"
      ],
      "execution_count": null,
      "outputs": []
    },
    {
      "cell_type": "markdown",
      "metadata": {
        "id": "0t2YnoCz3aHD"
      },
      "source": [
        ""
      ]
    }
  ]
}