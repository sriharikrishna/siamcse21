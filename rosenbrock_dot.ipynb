{
  "nbformat": 4,
  "nbformat_minor": 0,
  "metadata": {
    "kernelspec": {
      "display_name": "Python 3",
      "language": "python",
      "name": "python3"
    },
    "language_info": {
      "codemirror_mode": {
        "name": "ipython",
        "version": 3
      },
      "file_extension": ".py",
      "mimetype": "text/x-python",
      "name": "python",
      "nbconvert_exporter": "python",
      "pygments_lexer": "ipython3",
      "version": "3.9.0"
    },
    "colab": {
      "name": "rosenbrock_dot.ipynb",
      "provenance": [],
      "collapsed_sections": [],
      "include_colab_link": true
    }
  },
  "cells": [
    {
      "cell_type": "markdown",
      "metadata": {
        "id": "view-in-github",
        "colab_type": "text"
      },
      "source": [
        "<a href=\"https://colab.research.google.com/github/sriharikrishna/siamcse21/blob/main/rosenbrock_dot.ipynb\" target=\"_parent\"><img src=\"https://colab.research.google.com/assets/colab-badge.svg\" alt=\"Open In Colab\"/></a>"
      ]
    },
    {
      "cell_type": "markdown",
      "metadata": {
        "id": "aZ5x5uNHEI0z"
      },
      "source": [
        "#Rosenbrock Dot Product Test\n",
        "**Notebook Authors**: [Laurent Hascoët](http://www-sop.inria.fr/members/Laurent.Hascoet/)\n",
        "[Jan Hückelheim](https://www.anl.gov/profile/jan-christian-hueckelheim)\n",
        "[Paul Hovland](https://www.mcs.anl.gov/~hovland/)\n",
        "[Sri Hari Krishna Narayanan](https://www.mcs.anl.gov/~snarayan)\n",
        "\n",
        "Here we first rewrite the Rosenbrock example from earlier as calls to two functions:\n",
        "\n",
        "`result =  rosenbrock_vec_2(rosenbrock_vec_1(x))`"
      ]
    },
    {
      "cell_type": "code",
      "metadata": {
        "id": "zPCa8H6O3To8"
      },
      "source": [
        "import jax\n",
        "from jax import random\n",
        "import jax.numpy as jnp\n",
        "import numpy as np\n",
        "\n",
        "def rosenbrock(x):\n",
        "    \"\"\"\n",
        "    Computes the Rosenbrock's banana\n",
        "    x : array of values\n",
        "    \"\"\"\n",
        "    y = rosenbrock_vec_1(x)\n",
        "    z = rosenbrock_vec_2(y)\n",
        "    return z\n",
        "\n",
        "def rosenbrock_vec_1(x):\n",
        "    \"\"\"\n",
        "    Computes the individual summation terms of Rosenbrock's banana\n",
        "    x : array of values\n",
        "    \"\"\"\n",
        "    y = (100.0 * (x[1:] - x[:-1]**2.0)**2.0 + (1 - x[:-1])**2.0)\n",
        "    return y\n",
        "\n",
        "def rosenbrock_vec_2(y):\n",
        "    \"\"\"\n",
        "    Sums the individual terms of Rosenbrock's banana\n",
        "    y : array of summation terms\n",
        "    \"\"\"\n",
        "    z = sum(y)\n",
        "    return z"
      ],
      "execution_count": null,
      "outputs": []
    },
    {
      "cell_type": "markdown",
      "metadata": {
        "id": "t_XQnMuOResX"
      },
      "source": [
        "We then compute the forward mode partial derivatives.\n",
        "Create a random vector `x`"
      ]
    },
    {
      "cell_type": "code",
      "metadata": {
        "id": "SWrH1HDcRRpp"
      },
      "source": [
        "#create a random array\n",
        "n=10\n",
        "key = random.PRNGKey(0)\n",
        "x = random.normal(key, (n,), jnp.float64)\n",
        "print(\"x\", x)"
      ],
      "execution_count": null,
      "outputs": []
    },
    {
      "cell_type": "markdown",
      "metadata": {
        "id": "-A7XxQ1PWxlm"
      },
      "source": [
        "## Forward mode\n",
        "Create a random seed vector `xd` and compute the partials"
      ]
    },
    {
      "cell_type": "code",
      "metadata": {
        "id": "_zS8ga9CVdG-"
      },
      "source": [
        " #Forward mode; create a random seed; compute gradients\n",
        "key = random.PRNGKey(34234)\n",
        "xd = random.normal(key, (x.shape), jnp.float64)\n",
        "print(\"xd\", xd)"
      ],
      "execution_count": null,
      "outputs": []
    },
    {
      "cell_type": "code",
      "metadata": {
        "id": "k8oSFWIdVsRz"
      },
      "source": [
        "y, yd = jax.jvp(rosenbrock_vec_1, (x,),(xd,))\n",
        "print(\"yd\",yd)"
      ],
      "execution_count": null,
      "outputs": []
    },
    {
      "cell_type": "code",
      "metadata": {
        "id": "T0YLvqMOVso0"
      },
      "source": [
        "z, zd = jax.jvp(rosenbrock_vec_2, (y,), (yd,))\n",
        "print(\"zd\",zd)"
      ],
      "execution_count": null,
      "outputs": []
    },
    {
      "cell_type": "markdown",
      "metadata": {
        "id": "gqknDtZrXNnB"
      },
      "source": [
        "## Reverse Mode\n",
        "Create a random seed vector `xd` and compute the partials"
      ]
    },
    {
      "cell_type": "code",
      "metadata": {
        "id": "t3s359ywV7gA"
      },
      "source": [
        "#Reverse mode; create a random seed; compute adjoints\n",
        "key = random.PRNGKey(134534)\n",
        "zb = random.normal(key, (1,), jnp.float64)[0]\n",
        "print(\"zb\",zb)"
      ],
      "execution_count": null,
      "outputs": []
    },
    {
      "cell_type": "code",
      "metadata": {
        "id": "j6Qgge0DV7Wk"
      },
      "source": [
        "_, fun_vjp = jax.vjp(rosenbrock_vec_2, y)\n",
        "yb = np.array(fun_vjp(zb))\n",
        "#yb = -yb\n",
        "print(\"yb\",np.array(yb))"
      ],
      "execution_count": null,
      "outputs": []
    },
    {
      "cell_type": "code",
      "metadata": {
        "id": "XkxOPgCSV7K4"
      },
      "source": [
        "_, fun_vjp = jax.vjp(rosenbrock_vec_1, x)\n",
        "xb = np.array(fun_vjp(yb[0]))\n",
        "print(\"xb\", xb)"
      ],
      "execution_count": null,
      "outputs": []
    },
    {
      "cell_type": "markdown",
      "metadata": {
        "id": "1LBBgsWuXUjE"
      },
      "source": [
        "## Dot Products\n",
        "Compute the dot products"
      ]
    },
    {
      "cell_type": "code",
      "metadata": {
        "id": "HHH3WovrWMXl"
      },
      "source": [
        "#Compute the dot products\n",
        "print(\"jnp.dot(xb,xd)\", jnp.dot(xb,xd))\n",
        "print(\"jnp.dot(yb,yd)\", jnp.dot(yb,yd))\n",
        "print(\"jnp.dot(zb,zd)\",jnp.dot(zb,zd))"
      ],
      "execution_count": null,
      "outputs": []
    },
    {
      "cell_type": "markdown",
      "metadata": {
        "id": "Gv-TzrXkXfpd"
      },
      "source": [
        "## Exercises\n",
        "1. Use different values for `x`, `xd`, `xb`.\n",
        "2. Simulate a bug by changing the value of either `yd` or `yb` after it has been calculated and recompute the dot products."
      ]
    }
  ]
}